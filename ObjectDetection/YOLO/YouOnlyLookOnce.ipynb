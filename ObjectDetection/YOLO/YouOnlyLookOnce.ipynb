{
 "cells": [
  {
   "cell_type": "markdown",
   "metadata": {},
   "source": [
    "# You Only Look Once\n",
    "-------------"
   ]
  },
  {
   "cell_type": "markdown",
   "metadata": {},
   "source": [
    "## Abstract\n",
    "- 今までは classifier と detection を分けてたけど，YOLO はそれを single network で end-to-end でやるよん\n",
    "- sliding window しないからとても早いよ\n",
    "- localization の精度では劣るけど，false positives on background は少ないよ"
   ]
  },
  {
   "cell_type": "markdown",
   "metadata": {},
   "source": [
    "## 1. Introduction\n",
    "- 今までは classifier と detection を分けてたけど，YOLO はそれを single network で end-to-end でやった\n",
    "    - regression problem (回帰問題) にした\n",
    "- several benefits over traditional method\n",
    "    1. とても早い\n",
    "    1. sliding window と違って全体を見るから context を取れる，その結果 false positives が少ない\n",
    "    1. object を抽象化している，実際の写真で学習させたモデルで絵を input として test した時の性能がよい"
   ]
  },
  {
   "cell_type": "markdown",
   "metadata": {
    "collapsed": true
   },
   "source": [
    "## 2. Unified Detection\n",
    "- input image を $S \\times S$ の grid に分割\n",
    "    - object の中心を含む grid がその object の特定に responsible\n",
    "- それぞれの grid について$B$個の bounding box を定義し，それぞれの box について confidence scores を predict\n",
    "    - confidence scores reflects\n",
    "        1. how confident the model is that box contains an object\n",
    "        1. how accurate it thinks the box is that it predicts\n",
    "    - confidence = Pr(Object) * $\\text{IOU}^\\text{truth}_\\text{pred}$\n",
    "        - IOU: Intersection over Union between the predicted box and the ground truth\n",
    "            - box 内に object がなかったら 0 で，あったら box と ground truth の重なってる領域の割合\n",
    "$$\n",
    "\\text{IOU}^\\text{truth}_\\text{pred} = \\frac{\\text{pred}\\cap\\text{truth}}{\\text{pred}\\cup\\text{truth}}\n",
    "$$\n",
    "            - IOU は class は区別しない，あるかどうかだけ\n",
    "        - Pr(Class$_i$|Object): その box にobject が存在するとした時，それが class に属する確率\n",
    "    - bounding box は 5 predictions からなる: $x, y, w, h$, confidence\n",
    "        - $(x,y)$: grid の中心\n",
    "        - confidence: IOU between the predicted box and **any** ground truth box\n",
    "- bounding box の数 $B$ に関係なく，one set of class probabilities のみ predict\n",
    "- test 時には class probability と individual box confidence predictions をかける:\n",
    "$$\n",
    "\\text{Pr(Class$_i$|Object)} \\times \\text{Pr(Object)} \\times \\text{IOU}^\\text{truth}_\\text{pred}\n",
    "= \\text{Pr(Class$_i$)} \\times \\text{IOU}^\\text{truth}_\\text{pred}\n",
    "$$\n",
    "- 最終的な出力は $S\\times S \\times(B\\times 5 + C)$ tensor\n",
    "    - なぜ $C$ をかけずに足すのか\n",
    "        - 各 grid は 1 つのクラスを represent するから，つまり$\\text{Pr(Class$_i$|Object)}$ (class probability map ができる)\n",
    "    - なぜ $B\\times5$なのか\n",
    "        - その bounding box の $x,y,w,h$，及び class を無視したobjectのある確率，つまり IOU\n",
    "- YOLO on PASCAL VOC を evaluate する時には $S=7, B=2, C=20$"
   ]
  },
  {
   "cell_type": "markdown",
   "metadata": {},
   "source": [
    "### 2.1 Network Design\n",
    "- 24 convolutional layers and 2 fully connected network\n",
    "    - GoogLeNet に inspire されたけど，inception module (concat のやつかな？) の代わりに 3x3 conv のあとに 1x1 reduction layers\n",
    "    - 最終的な出力は 1 channel が 1 つの座標もしくは確率に対応，各要素は grid に対応\n",
    "        - 詳細は論文中の fig.3 に記載\n",
    "    - alternative 1x1 convolutional layers が何やってるかいまいち掴めないから実装見る\n",
    "        - chainer 実装だけど以下の雰囲気\n",
    "        - bias は $Wx+b$ の $b$ だよね？"
   ]
  },
  {
   "cell_type": "code",
   "execution_count": null,
   "metadata": {
    "collapsed": true
   },
   "outputs": [],
   "source": [
    "conv5  = L.Convolution2D(64, 128, ksize=3, stride=1, pad=1, nobias=True),\n",
    "bn5    = L.BatchNormalization(128, use_beta=False, eps=2e-5),\n",
    "bias5  = L.Bias(shape=(128,)),\n",
    "conv6  = L.Convolution2D(128, 256, ksize=3, stride=1, pad=1, nobias=True),\n",
    "bn6    = L.BatchNormalization(256, use_beta=False, eps=2e-5),\n",
    "bias6  = L.Bias(shape=(256,)),"
   ]
  },
  {
   "cell_type": "markdown",
   "metadata": {},
   "source": [
    "### 2.2 Training\n",
    "- Pretrain\n",
    "    - ImageNet (1000 classes, 224 x 224) で first 20 convs を pretrain\n",
    "    - 1 ween train して 88% accuracy\n",
    "- Fine Tuning\n",
    "    - 448 x 448 にした(detection では fine-grained visual information が求められるため)\n",
    "    - bounding box の $w, h$ を 0~1 に正規化，$x, y$ は grid の中心に，かつ 0~1 にした\n",
    "- Activation\n",
    "    - Final layer: linear activation function\n",
    "    - Other layers: leaky ReLU ( $x<0$ で $0$ じゃなくて $0.1x$ を返す)\n",
    "- Loss Function と問題点\n",
    "    - sum-squared error (2乗和？)\n",
    "    - optimize しやすいから，でも性能少し劣る\n",
    "    - may not be ideal な classification error と localization error を同等に扱っている\n",
    "    - 多くの grid には object は存在せず，その時 confidence score は zero にしたいが，これは object を含む cell による影響を上回る\n",
    "        - この欠点によりモデルは不安定になる\n",
    "    - 大きな box と小さな box の error を同一視\n",
    "        - 大きい box 内の小さなズレは小さい box におけるそれによる loss よりも小さくしたい\n",
    "- 解決策 (remedy)\n",
    "    - bounding box の座標に関する loss を大きくする $(\\lambda_\\text{coord}=5)$\n",
    "    - object を含まない grid の confidence による loss を小さくする $(\\lambda_\\text{noobj}=5)$\n",
    "    - box の平方根を予測するようにする\n",
    "- どの bounding box を選ぶか\n",
    "    - the highest IOU\n",
    "- loss function\n",
    "    - https://www.slideshare.net/ssuser07aa33/introduction-to-yolo-detection-model に詳しい\n",
    "- params\n",
    "    - 135 epochs on the training and validation data from PASCAL VOC 2007 and 2012\n",
    "    - batchsize = 64\n",
    "    - momentum = 0.9\n",
    "    - decay = 0.0005\n",
    "- learning rate\n",
    "    - first epoch: $10^{-3}$ から $10^{-2}$ までraise\n",
    "    - 次の 75 epochs は $10^{-2}$，そこから 30 epochs は $10^{-3}$，最後の 30 epochs は $10^{-4}$\n",
    "- to avoid overfitting\n",
    "    - dropout\n",
    "        - first FC の後に 0.5 の dropout layer\n",
    "    - data augumentation\n",
    "        - random scaling and translations of up to 20%\n",
    "        - randomly adjust the exposure (露光) and saturation (彩度) を HSV color space で 1.5 倍の範囲で変化\n",
    "    "
   ]
  },
  {
   "cell_type": "markdown",
   "metadata": {},
   "source": [
    "### 2.3 Inference (推測)\n",
    "- 大きな object や border of multiple cells の近くの object は複数の cell に well localized され得る\n",
    "    - Non-maximal suppression を用いて重複して detect されることを防いだ\n",
    "    - R-CNN, DPM ではいまいちだったが，この導入により mAP が 2~3% 上昇"
   ]
  },
  {
   "cell_type": "markdown",
   "metadata": {},
   "source": [
    "### 2.4 Limitations of YOLO\n",
    "- one object per one grid cell なので，近くに複数物体がある場合に弱い\n",
    "    - 羊や鳥の群れのようなグループでいるものに弱い\n",
    "    - これ魚やばくね？\n",
    "- generalize しようとするのでざっくりした (coarse) detection\n",
    "- box の大きさと loss の問題\n",
    "    - small error in a small box は IOU に多大な影響を及ぼす\n",
    "        - これも平方根取ればいいのに"
   ]
  },
  {
   "cell_type": "markdown",
   "metadata": {},
   "source": [
    "## 3. Comparison to Other Detection Systems\n",
    "- 他の手法との比較"
   ]
  },
  {
   "cell_type": "markdown",
   "metadata": {},
   "source": [
    "## 4. Experiments\n",
    "- R-CNN と YOLO が犯したミスを比較し，その傾向を分析\n",
    "    - Fast R-CNN の score を修正できる\n",
    "    - false positive が少ない"
   ]
  },
  {
   "cell_type": "markdown",
   "metadata": {},
   "source": [
    "## 5. Conclusion\n",
    "- まとめてた"
   ]
  }
 ],
 "metadata": {
  "kernelspec": {
   "display_name": "Python 3",
   "language": "python",
   "name": "python3"
  },
  "language_info": {
   "codemirror_mode": {
    "name": "ipython",
    "version": 3
   },
   "file_extension": ".py",
   "mimetype": "text/x-python",
   "name": "python",
   "nbconvert_exporter": "python",
   "pygments_lexer": "ipython3",
   "version": "3.6.0"
  }
 },
 "nbformat": 4,
 "nbformat_minor": 2
}
