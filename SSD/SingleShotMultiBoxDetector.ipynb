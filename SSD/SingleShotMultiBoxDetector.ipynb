{
 "cells": [
  {
   "cell_type": "markdown",
   "metadata": {},
   "source": [
    "# SSD: Single Shot MultiBox Detector\n",
    "------"
   ]
  },
  {
   "cell_type": "markdown",
   "metadata": {},
   "source": [
    "## Abstract\n",
    "- 異なる解像度の出力 map への射影により，1つのネットワークで異なる scale, aspect 比の prediction\n",
    "- simple だから早い，高い accuracy"
   ]
  },
  {
   "cell_type": "markdown",
   "metadata": {},
   "source": [
    "## Introduction\n",
    "- 多くのアプローチは bounding box を予測し，各 box を classifer の入力とする\n",
    "    - Faster R-CNN の派生系\n",
    "    - 計算量多すぎてリアルタイム厳しい\n",
    "    - 高速化は性能とのトレードオフだった\n",
    "- 提案手法では pixel を resample しない最初の deep network based なシステムにより，精度を維持しつつ大幅な速度の向上\n",
    "- We summarize our contribution as follows:\n",
    "    - YOLO よりも早く，遅く高精度な Faster R-CNN 並みに高精度な SSD の提案\n",
    "    - feature maps に適用された小さな conv filter を用いた fixed set of default bounding box によって score と box offsets を予測する\n",
    "    - 複数の scale の feature maps から予測することにより high accuracy を達成，prediction と aspect ratio を明確に分離した？\n",
    "    - これらの設計はシンプルな end-to-end training を可能にし，速度と精度のトレードオフを大きく改善"
   ]
  },
  {
   "cell_type": "markdown",
   "metadata": {},
   "source": [
    "## 2 The Single Shot Detector (SSD)\n",
    "- 2.1 SSD framework for detection\n",
    "- 2.2 training について\n",
    "- 2.3 dateset-specific model details and experimental results"
   ]
  },
  {
   "cell_type": "markdown",
   "metadata": {},
   "source": [
    "### 2.1 Model\n",
    "- SSD は fixed-size collection of bounding boxes とクラスのスコアを出力する convs と，それに接続し最終的な detection を行う non-maximum suppression からなる\n",
    "- base network は VGG-16\n",
    "    - それに以下に示すような detection 用の構造を追加\n",
    "\n",
    "#### Multi-scale feature maps for detection\n",
    "- truncated base network に conv feature layers を追加\n",
    "    - だんだんサイズが小さくなるので multi scale な prediction が可能\n",
    "\n",
    "#### Convolutional predictors for detection\n",
    "- 各 added feature layer は detection prediction を conv filters を用いて出力する\n",
    "- $m\\times n$ feature map 上の各 cell について，bounding box の offset と各クラスのスコアを出力\n",
    "\n",
    "#### Default boxes and aspect ratios\n",
    "- $m\\times n$ feature map 上の各 cell について，$k$ 個の default box が存在し，それぞれが $x, y, w, h$ と各クラスのスコアを出力する\n",
    "    - したがって，$m\\times n$ feature map のoutput は $(c+4)kmn$ 個となる\n",
    "    - Faster R-CNN の anchor box に似ているが，複数の feature maps に適用している点が異なる"
   ]
  },
  {
   "cell_type": "markdown",
   "metadata": {
    "collapsed": true
   },
   "source": [
    "![ssd_structure](https://cdn-images-1.medium.com/max/800/1*arKQrfk9V3nWzx7Jt7YXeg.png)"
   ]
  },
  {
   "cell_type": "code",
   "execution_count": 4,
   "metadata": {
    "collapsed": false
   },
   "outputs": [
    {
     "name": "stdout",
     "output_type": "stream",
     "text": [
      "8732\n"
     ]
    }
   ],
   "source": [
    "print(4*(38**2+3**2+1**4)+6*(19**2+10**2+5**2))"
   ]
  },
  {
   "cell_type": "markdown",
   "metadata": {
    "collapsed": true
   },
   "source": [
    "### 2.2 Training\n",
    "- SSD と typical な region proposal を使う detector との重要な違いは，ground truth information を出力のうち特定のものに assign すること\n",
    "    - YOLO や Faster R-CNN の RPN でもやってる\n",
    "    - end-to-end で学習できる\n",
    "- training は default boxes とその scales の選択，及び hard negative mining と data augmentation も含む\n",
    "\n",
    "#### Matching strategy\n",
    "- ground truth と default box を対応づける必要がある\n",
    "    - まず，各 ground truth について jaccard overlap (MultiBox) が一番よく一致している default box を選択\n",
    "    - 次に MultiBox と異なり，各 default box について jaccard overlap が threshold (0.5) より大きい ground truth を全て選択\n",
    "    - 最大の overlap を持つ1つのみの default box を選ぶよりも複数の box を選ぶ方が learning problem が簡単になる\n",
    "\n",
    "#### Training objective\n",
    "- SSD の目的関数は MultiBox から派生しているが，複数カテゴリの object を扱えるように拡張してある\n",
    "- $x_{ij}^p$: indicator for matchng $i$-th default box to the $j$-th ground truth box of category $p$\n",
    "    - 上述の matching strategy の通り，$\\sum_i x_{ij}^p \\geq 1$\n",
    "- objective loss function:\n",
    "$$\n",
    "L(x,c,l,g) =\\frac{1}{N}(L_{conf}(x,c)+\\alpha L_{loc}(x,l,g))\n",
    "$$\n",
    "    - N: number of matched default boxes ($L = 0$ when $N = 0$)\n",
    "    - x: input\n",
    "    - c: multiple classes confidences ($c_i^p$ は $i$ 番目の default box が $p$ 番目のクラスに属するという confidence)\n",
    "    - l: predicted box\n",
    "    - g: ground truth\n",
    "- localization loss $(L_{loc}(x,l,g))$: predicted box と ground truth の SmoothL1 loss\n",
    "- box の中心 $(cx, cy)$ と $w, h$ を default bounding box (b) に回帰\n",
    "    - $Pos$: match した default box の集合 ($N$ 個)"
   ]
  },
  {
   "cell_type": "markdown",
   "metadata": {},
   "source": [
    "![objective](http://workpiles.com/wordpress/wp-content/uploads/2017/03/ssd_loss.jpg)"
   ]
  },
  {
   "cell_type": "markdown",
   "metadata": {},
   "source": [
    "#### Choosing scales and aspect ratios for default boxes\n",
    "- 多様な scale のオブジェクトに対応するために，複数サイズの画像を入力し，出力をまとめるみたいなことがされてきた\n",
    "    - SSD では feature maps の導入により parameters (convs だよね) を共有しながら同様の効果を得ることができている\n",
    "- 低解像度，高解像度両方の feature map を利用した\n",
    "- 特定の feature map が学習する object の大きさを規定した\n",
    "- scale について\n",
    "    - $s_k$: $x, y, w, h$ を画像 (feature map) 全体の辺の長さを1としたときの比として表現\n",
    "    - $s_\\text{min}=0.2$: lowest layer has a scale of 0.2\n",
    "        - 一番解像度高いやつって理解で合ってる？たかだか5分割なのは嘘くさくない？\n",
    "    - $s_\\text{max}=0.9$: highest layer has a scale of 0.9\n",
    "        - 一番解像度低いやつって理解で合ってる？てか画像全体だよね\n",
    "    - $m$ 枚の feature map\n",
    "$$\n",
    "s_k = s_\\text{min} + \\frac{s_\\text{max}-s_\\text{min}}{m-1}(k-1),\\quad k\\in [1,m]\n",
    "$$\n",
    "- aspect 比について\n",
    "    - $a_r\\in \\{1,2,3,\\frac{1}{2}, \\frac{1}{3}\\}$\n",
    "- $w, h$ の決め方\n",
    "$$\n",
    "w_k^a = s_k\\sqrt{a_r},~ h_k^a = s_k/\\sqrt{a_r}\n",
    "$$\n",
    "    - ただし，$a_r=1$ のときだけは $s_k'=\\sqrt{s_ks_{k+1}}$ を追加\n",
    "- $x, y$ の決め方\n",
    "    - feature map の各セルの中心\n",
    "    - 論文中の式は $|f_k|~\\times~|f_k|$ のセルについて書かれてる"
   ]
  },
  {
   "cell_type": "markdown",
   "metadata": {},
   "source": [
    "#### Hard negative mining\n",
    "- 特に default box が多い時は大半が negative\n",
    "- pos, neg 間の imbalance をもたらす\n",
    "- 全ての neg を使うのではなく，各 default box について confidence loss ($L_{conf}$) が高いものを採用し，neg:pos = 3:1 になるようにした"
   ]
  },
  {
   "cell_type": "markdown",
   "metadata": {},
   "source": [
    "#### Data augmentation\n",
    "- patch\n",
    "    - image 全体を使う\n",
    "    - minimum jaccard overlap with the object が 0.1, 0.3, 0.5, 0.7, or 0.9 になるように patch とる\n",
    "    - randomly sample a patch\n",
    "- patched image は元画像の 0.1 ~ 1 倍\n",
    "- アスペクト比は2倍以下\n",
    "- ground truth box の中心が sampled patch 内にある時は overlapped part を keep？\n",
    "- 上述のことをやってから画像サイズを修正，さらに確率 0.5 でhorizontally flipped\n",
    "- [14] と同様な photo-meric distoritions"
   ]
  },
  {
   "cell_type": "markdown",
   "metadata": {},
   "source": []
  },
  {
   "cell_type": "markdown",
   "metadata": {},
   "source": []
  },
  {
   "cell_type": "markdown",
   "metadata": {},
   "source": []
  }
 ],
 "metadata": {
  "kernelspec": {
   "display_name": "Python 3",
   "language": "python",
   "name": "python3"
  },
  "language_info": {
   "codemirror_mode": {
    "name": "ipython",
    "version": 3
   },
   "file_extension": ".py",
   "mimetype": "text/x-python",
   "name": "python",
   "nbconvert_exporter": "python",
   "pygments_lexer": "ipython3",
   "version": "3.6.0"
  }
 },
 "nbformat": 4,
 "nbformat_minor": 2
}
